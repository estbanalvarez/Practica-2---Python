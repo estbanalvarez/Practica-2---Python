{
 "cells": [
  {
   "cell_type": "markdown",
   "metadata": {},
   "source": [
    "## Entrega: Ejercicio 10 - Practica 2\n",
    "\n",
    "Un club de hockey posee las estadísticas de todxs sus jugadorxs de la última\n",
    "temporada jugada del torneo de hockey mixto. Poseen una lista con los nombres, otra con los goles a favor, otra con los goles evitados y la última con las asistencias realizadas. El club está por otorgar los premios de cierre de temporada y necesita:\n",
    "\n",
    "1. Generar una estructura todas las estadísticas asociadas a cada jugador o jugadora.\n",
    "2. Conocer el nombre y la cantidad de goles del goleador o goleadora.\n",
    "3. Conocer el nombre del jugador o jugadora más influyente, esto se consigue sumando goles a favor, goles evitados y cantidad de asistencias. La particularidad es que los goles a favor, evitados y las asistencias NO valen lo mismo (es un promedio ponderado):  \n",
    "\n",
    "    __Valor__:  \n",
    "\n",
    "    Goles a favor = 1.5   \n",
    "    Goles en evitados = 1.25  \n",
    "    Asistencias = 1  \n",
    "\n",
    "4. Conocer el promedio de goles por partido del equipo en general. Dato: Se jugaron 25 partidos en la temporada.\n",
    "5. Conocer el promedio de goles por partido del goleador o goleadora. Dato: Se jugaron 25 partidos en la temporada.\n"
   ]
  },
  {
   "cell_type": "code",
   "execution_count": 1,
   "metadata": {},
   "outputs": [],
   "source": [
    "names = \"\"\" Agustin, Yanina, Andrés, Ariadna, Bautista, CAROLINA,\n",
    "CESAR, David, Diego, Dolores, DYLAN, ELIANA, Emanuel, Fabián, Noelia,\n",
    "Francsica', FEDERICO, Fernanda, GONZALO, Nancy \"\"\"\n",
    "\n",
    "goals = [0, 10, 4, 0, 5, 14, 0, 0, 7, 2, 1, 1, 1, 5, 6, 1, 1, 2, 0, 11]\n",
    "goals_avoided = [0, 2, 0, 0, 5, 2, 0, 0, 1, 2, 0, 5, 5, 0, 1, 0, 2, 3, 0, 0]\n",
    "assists = [0, 5, 1, 0, 5, 2, 0, 0, 1, 2, 1, 5, 5, 0, 1, 0, 2, 3, 1, 0]\n",
    "\n"
   ]
  },
  {
   "cell_type": "markdown",
   "metadata": {},
   "source": [
    "### Inciso 1: Generar estructura que contenga las estadisticas de cada jugador"
   ]
  },
  {
   "cell_type": "code",
   "execution_count": 2,
   "metadata": {},
   "outputs": [],
   "source": [
    "import team_process \n",
    "\n",
    "names = names.split(',')\n",
    "stadistics = team_process.generate_structure(names,goals,goals_avoided,assists)\n"
   ]
  },
  {
   "cell_type": "markdown",
   "metadata": {},
   "source": [
    "### Inciso 2: Conocer el nombre y cantidad de goles del goleador o goleadora\n"
   ]
  },
  {
   "cell_type": "code",
   "execution_count": 3,
   "metadata": {},
   "outputs": [
    {
     "name": "stdout",
     "output_type": "stream",
     "text": [
      "(' CAROLINA', 14)\n",
      "El goleador o goleadora del equipo es:  CAROLINA con 14 goles \n"
     ]
    }
   ],
   "source": [
    "goal_scorer = team_process.goal_scorer(stadistics)\n",
    "print(goal_scorer)\n",
    "print(f'El goleador o goleadora del equipo es: {goal_scorer[0]} con {goal_scorer[1]} goles ')"
   ]
  },
  {
   "cell_type": "markdown",
   "metadata": {},
   "source": [
    "### Inciso 3: Conocer el jugador o jugadora mas influyente"
   ]
  },
  {
   "cell_type": "code",
   "execution_count": 4,
   "metadata": {},
   "outputs": [
    {
     "name": "stdout",
     "output_type": "stream",
     "text": [
      "El jugador o jugadora mas influyente del equipo es:  CAROLINA\n"
     ]
    }
   ],
   "source": [
    "influential_player= team_process.influential_player(stadistics)\n",
    "print(f'El jugador o jugadora mas influyente del equipo es: {influential_player}')"
   ]
  },
  {
   "cell_type": "markdown",
   "metadata": {},
   "source": [
    "### Inciso 4: Conocer el promedio de goles por del equipo en general. \n",
    "\n",
    "Se jugaron 25 partidos\n"
   ]
  },
  {
   "cell_type": "code",
   "execution_count": 5,
   "metadata": {},
   "outputs": [
    {
     "name": "stdout",
     "output_type": "stream",
     "text": [
      "El promedio de goles por partido del equipo es: 2.84\n"
     ]
    }
   ],
   "source": [
    "goals_average= team_process.goals_average(stadistics)\n",
    "\n",
    "print(f'El promedio de goles por partido del equipo es: {goals_average}')"
   ]
  },
  {
   "cell_type": "markdown",
   "metadata": {},
   "source": [
    "### Inciso 5: Conocer promedio de goles del goleador o goleadora. \n",
    "Se jugaron 25 partidos"
   ]
  },
  {
   "cell_type": "code",
   "execution_count": 6,
   "metadata": {},
   "outputs": [
    {
     "name": "stdout",
     "output_type": "stream",
     "text": [
      "El promedio de goles del goleador o goleadora es: 0.56\n"
     ]
    }
   ],
   "source": [
    "goal_scorer_average= team_process.striker_average(stadistics)\n",
    "\n",
    "print(f'El promedio de goles del goleador o goleadora es: {goal_scorer_average}')"
   ]
  }
 ],
 "metadata": {
  "kernelspec": {
   "display_name": "venv",
   "language": "python",
   "name": "python3"
  },
  "language_info": {
   "codemirror_mode": {
    "name": "ipython",
    "version": 3
   },
   "file_extension": ".py",
   "mimetype": "text/x-python",
   "name": "python",
   "nbconvert_exporter": "python",
   "pygments_lexer": "ipython3",
   "version": "3.11.7"
  }
 },
 "nbformat": 4,
 "nbformat_minor": 2
}
