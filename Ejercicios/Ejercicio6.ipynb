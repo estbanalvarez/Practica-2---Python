{
 "cells": [
  {
   "cell_type": "markdown",
   "metadata": {},
   "source": [
    "# Ejercicio 6\n",
    "\n",
    "Dada una frase y un string ingresados por teclado (en ese orden), genere una lista de\n",
    "palabras, y sobre ella, informe la cantidad de palabras en las que se encuentra el\n",
    "string. No distingir entre mayúsculas y minúsculas\n",
    "\n",
    "### __Ejemplo 1__\n",
    "\n",
    "Para la frase: \"Tres tristes tigres, tragaban trigo en un trigal, en tres tristes\n",
    "trastos, tragaban trigo tres tristes tigres.\"  \n",
    "Palabra: \"tres\"  \n",
    "Resultado: 3  \n",
    "\n",
    "### __Ejemplo 2__\n",
    "\n",
    "Para la frase: \"Tres tristes tigres, tragaban trigo en un trigal, en tres tristes\n",
    "trastos, tragaban trigo tres tristes tigres.\"\n",
    "Palabra: \"tigres\"\n",
    "Resultado: 2\n",
    "\n",
    "### __Ejemplo 3__\n",
    "\n",
    "Para la frase: \"Tres tristes tigres, tragaban trigo en un trigal, en tres tristes\n",
    "trastos, tragaban trigo tres tristes tigres.\"\n",
    "Palabra: \"TRISTES\"\n",
    "Resultado: 3\n"
   ]
  },
  {
   "cell_type": "markdown",
   "metadata": {},
   "source": [
    "### Resuelvo Ejercicio"
   ]
  },
  {
   "cell_type": "code",
   "execution_count": 8,
   "metadata": {},
   "outputs": [
    {
     "name": "stdout",
     "output_type": "stream",
     "text": [
      "['hola', 'hola', 'hola.']\n",
      "Resultado: 3\n"
     ]
    }
   ],
   "source": [
    "phrase= input(\"Ingrese una frase: \").lower()\n",
    "word= input(\"Ingrese una palabra\").lower()\n",
    "\n",
    "#phrase.count(word)\n",
    "phrase = phrase.split()\n",
    "print (phrase)\n",
    "count=0\n",
    "for palabra in phrase:\n",
    "    if word in palabra:\n",
    "        count +=1\n",
    "print(f\"Resultado: {count}\")\n"
   ]
  }
 ],
 "metadata": {
  "kernelspec": {
   "display_name": "venv",
   "language": "python",
   "name": "python3"
  },
  "language_info": {
   "codemirror_mode": {
    "name": "ipython",
    "version": 3
   },
   "file_extension": ".py",
   "mimetype": "text/x-python",
   "name": "python",
   "nbconvert_exporter": "python",
   "pygments_lexer": "ipython3",
   "version": "3.11.7"
  }
 },
 "nbformat": 4,
 "nbformat_minor": 2
}
