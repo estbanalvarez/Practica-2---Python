{
 "cells": [
  {
   "cell_type": "markdown",
   "metadata": {},
   "source": [
    "### Ejercicio 7\n",
    "\n",
    "Dada una frase contar mayúsculas, minúsculas, caracteres no letras y la cantidad de\n",
    "palabras sin distinguir entre mayúsculas y minúsculas.\n",
    "\n",
    "```\"python\"\n",
    "text = \"\"\" La brecha salarial alcanzó el 27,7%: las mujeres ocupadas\n",
    "debieron trabajar 8 días y 10 horas más que los varones ocupados para\n",
    "ganar lo mismo que ellos en un mes. \"\"\"\n",
    "```"
   ]
  },
  {
   "cell_type": "code",
   "execution_count": 3,
   "metadata": {},
   "outputs": [],
   "source": [
    "text = \"\"\" La brecha salarial alcanzó el 27,7%: las mujeres ocupadas\n",
    "debieron trabajar 8 días y 10 horas más que los varones ocupados para\n",
    "ganar lo mismo que ellos en un mes. \"\"\""
   ]
  },
  {
   "cell_type": "markdown",
   "metadata": {},
   "source": [
    "### Uso metodo String para resolver Ejercicio"
   ]
  },
  {
   "cell_type": "code",
   "execution_count": 4,
   "metadata": {},
   "outputs": [
    {
     "name": "stdout",
     "output_type": "stream",
     "text": [
      "['ó', '2', '7', ',', '7', '%', ':', '8', 'í', '1', '0', 'á', '.']\n"
     ]
    },
    {
     "data": {
      "text/plain": [
       "{'Mayusculas': 1, 'Minuscula': 120, 'No letras': 13, 'Palabras': 1}"
      ]
     },
     "execution_count": 4,
     "metadata": {},
     "output_type": "execute_result"
    }
   ],
   "source": [
    "import string\n",
    "\n",
    "cant={\"Mayusculas\":0, \"Minuscula\":0,\"No letras\":0,\"Palabras\":0}\n",
    "\n",
    "# ver letras con acento\n",
    "text= text.replace(\" \",\"\").replace(\"\\n\",\"\")\n",
    "# corregir nombres\n",
    "minusculas = [minuscula for minuscula in text if minuscula in string.ascii_lowercase]\n",
    "mayusculas= [mayuscula for mayuscula in text if mayuscula in string.ascii_uppercase]\n",
    "no_letras= [no_letra for no_letra in text if no_letra not in string.ascii_letters]\n",
    "\n",
    "print(no_letras)\n",
    "\n",
    "cant[\"Mayusculas\"]= len(mayusculas)\n",
    "cant[\"Minuscula\"] = len(minusculas)\n",
    "cant[\"No letras\"]= len(no_letras)\n",
    "\n",
    "words = text.lower().split()\n",
    "\n",
    "cant[\"Palabras\"]= len(words)\n",
    "\n",
    "cant\n"
   ]
  }
 ],
 "metadata": {
  "kernelspec": {
   "display_name": "venv",
   "language": "python",
   "name": "python3"
  },
  "language_info": {
   "codemirror_mode": {
    "name": "ipython",
    "version": 3
   },
   "file_extension": ".py",
   "mimetype": "text/x-python",
   "name": "python",
   "nbconvert_exporter": "python",
   "pygments_lexer": "ipython3",
   "version": "3.11.7"
  }
 },
 "nbformat": 4,
 "nbformat_minor": 2
}
