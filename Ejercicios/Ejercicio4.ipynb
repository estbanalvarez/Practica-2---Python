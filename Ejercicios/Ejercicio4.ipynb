{
 "cells": [
  {
   "cell_type": "markdown",
   "metadata": {},
   "source": [
    "# Ejercicio 4\n",
    "\n",
    "Dado el siguiente código que informa si la letra a se encuentra en una palabra\n",
    "ingresada por teclado:\n",
    "\n",
    "### Código:\n",
    "\n",
    "word = input(\"Ingresá una palabra: \")  \n",
    "if \"a\" in word:  \n",
    "print(\"Hay al menos una letra a.\")  \n",
    "else:  \n",
    "print(\"No hay letras a. \")  \n",
    "\n",
    "### Salida\n",
    "\n",
    "Ingresá una palabra: mundo  \n",
    "No hay letras a.  \n",
    "\n",
    "### Si ahora queremos saber si contiene la letra a y también la letra n, ¿cómo lo modificamos?  \n",
    "\n"
   ]
  },
  {
   "cell_type": "code",
   "execution_count": 25,
   "metadata": {},
   "outputs": [
    {
     "name": "stdout",
     "output_type": "stream",
     "text": [
      "Hay al menos una letra n pero no hay letra a\n"
     ]
    }
   ],
   "source": [
    "word = input(\"Ingrese una palabra: \").lower()\n",
    "    \n",
    "if 'a'in word and 'n' in word:\n",
    "    print('Hay al menos una letra a y una letra n.')\n",
    "elif 'a' in word:\n",
    "    print('Hay al menos una letra a pero no hay letra n')\n",
    "elif 'n' in word:\n",
    "    print('Hay al menos una letra n pero no hay letra a')\n",
    "else:\n",
    "    print('No hay letras a ni letras n')"
   ]
  }
 ],
 "metadata": {
  "kernelspec": {
   "display_name": "venv",
   "language": "python",
   "name": "python3"
  },
  "language_info": {
   "codemirror_mode": {
    "name": "ipython",
    "version": 3
   },
   "file_extension": ".py",
   "mimetype": "text/x-python",
   "name": "python",
   "nbconvert_exporter": "python",
   "pygments_lexer": "ipython3",
   "version": "3.11.7"
  }
 },
 "nbformat": 4,
 "nbformat_minor": 2
}
