{
 "cells": [
  {
   "cell_type": "markdown",
   "metadata": {},
   "source": [
    "### Ejercicio 8\n",
    "\n",
    "Escriba un programa que solicite que se ingrese una palabra o frase y permita\n",
    "identificar si la misma es un Heterograma (tenga en cuenta que el contenido del enlace\n",
    "es una traducción del inglés por lo cual las palabras que nombra no son heterogramas\n",
    "en español). Un Heterograma es una palabra o frase que no tiene ninguna letra\n",
    "repetida entre sus caracteres.\n",
    "\n",
    "__Tener en cuenta__\n",
    "\n",
    "Lo que no se puede repetir en la frase son sólo aquellos caracteres que sean\n",
    "letras.  \n",
    "No se distingue entre mayúsculas y minúsculas, es decir si en la frase o palabra  \n",
    "tenemos la letra \"T\" y la letra \"t\" la misma NO será un Hererograma.  \n",
    "Para simplificar el ejercicio vamos a tomar como que las letras con tilde y sin tilde  \n",
    "son distintas. Ya que Python las diferencia:  \n",
    "\n",
    "Ejemplos:  \n",
    "\n",
    "Entreda ¿Heterograma?  \n",
    "cruzamiento Sí  \n",
    "centrifugados Sí  \n",
    "portón Sí  \n",
    "casa No  \n",
    "día de sol No  \n",
    "con diez uñas Sí  \n",
    "no-se-duplica S  \n"
   ]
  },
  {
   "cell_type": "markdown",
   "metadata": {},
   "source": [
    "## Resuelvo ejercicio "
   ]
  },
  {
   "cell_type": "code",
   "execution_count": 47,
   "metadata": {},
   "outputs": [
    {
     "name": "stdout",
     "output_type": "stream",
     "text": [
      "case df tyu\n",
      "casedftyu\n",
      "Es un heterograma\n"
     ]
    }
   ],
   "source": [
    "import string\n",
    "\n",
    "letters= string.ascii_letters\n",
    "letters += 'ñÑ'\n",
    "\n",
    "\n",
    "phrase = input('Ingrese una frase o letra: ').lower()\n",
    "\n",
    "print(phrase)\n",
    "\n",
    "for char in phrase:\n",
    "    if char not in letters:\n",
    "        phrase= phrase.replace(char,'')\n",
    "\n",
    "print(phrase)\n",
    "      \n",
    "is_heterogram = True\n",
    "\n",
    "for char in phrase:\n",
    "        if (phrase.count(char) >1):\n",
    "            is_heterogram= False\n",
    "            break\n",
    "\n",
    "print(('Es un heterograma') if is_heterogram else ('No es un heterograma'))\n",
    "\n"
   ]
  }
 ],
 "metadata": {
  "kernelspec": {
   "display_name": "venv",
   "language": "python",
   "name": "python3"
  },
  "language_info": {
   "codemirror_mode": {
    "name": "ipython",
    "version": 3
   },
   "file_extension": ".py",
   "mimetype": "text/x-python",
   "name": "python",
   "nbconvert_exporter": "python",
   "pygments_lexer": "ipython3",
   "version": "3.11.7"
  }
 },
 "nbformat": 4,
 "nbformat_minor": 2
}
