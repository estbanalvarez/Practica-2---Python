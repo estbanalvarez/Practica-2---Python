{
 "cells": [
  {
   "cell_type": "markdown",
   "metadata": {},
   "source": [
    "# Ejercicio 5\n",
    "\n",
    "Para la aceptación de un artículo en un congreso se definen las siguientes\n",
    "especificaciones que deben cumplir y recomendaciones de escritura:\n",
    "\n",
    "### título:\n",
    "10 palabras como máximo  \n",
    "\n",
    "### cada oración del resumen:\n",
    "hasta 12 palabras: fácil de leer  \n",
    "entre 13-17 palabras: aceptable para leer  \n",
    "entre 18-25 palabras: difícil de leer  \n",
    "mas de 25 palabras: muy difícil  \n",
    "\n",
    "Es importante destacar que los números no se consideran palabras al momento del\n",
    "análisis por su facilidad de lectura.\n",
    "Dado un artículo en formato string, defina si cumple las especificaciones del título y\n",
    "cuántas oraciones tiene de cada categoría. El formato estándar en que recibe el string\n",
    "tiene la siguiente forma:\n",
    "\n",
    "```\"python\"\n",
    "article = \"\"\" título: Experiences in Developing a Distributed Agent\u0002based Modeling Toolkit with Python Version 3\n",
    "resumen: Distributed agent-based modeling (ABM) on high-performance\n",
    "computing resources provides the promise of capturing unprecedented\n",
    "details of large-scale complex systems. However, the specialized\n",
    "knowledge required for developing such ABMs creates barriers to wider\n",
    "adoption and utilization. Here we present our experiences in\n",
    "developing an initial implementation of Repast4Py, a Python-based\n",
    "distributed ABM toolkit. We build on our experiences in developing ABM\n",
    "toolkits, including Repast for High Performance Computing (Repast\n",
    "HPC), to identify the key elements of a useful distributed ABM\n",
    "toolkit. We leverage the Numba, NumPy, and PyTorch packages and the\n",
    "En este ejemplo se debe informar:\n",
    "Python C-API to create a scalable modeling system that can exploit the\n",
    "largest HPC resources and emerging computing architectures. \"\"\"```\n",
    "\n",
    "En este ejemplo se debe informar:\n",
    "Python C-API to create a scalable modeling system that can exploit the\n",
    "largest HPC resources and emerging computing architectures. \"\"\"\n",
    "título: not ok\n",
    "Cantidad de oraciones fáciles de leer: 1, aceptables para leer: 2, dificil de leer: 1,\n",
    "muy difícil de leer: 2\n"
   ]
  },
  {
   "cell_type": "code",
   "execution_count": 39,
   "metadata": {},
   "outputs": [],
   "source": [
    "artycle= \"\"\"título: Experiences in Developing a Distributed Agent-based Modeling Toolkit with Python Version 3\n",
    "resumen: Distributed agent-based modeling (ABM) on high-performance computing resources provides the promise of capturing unprecedented details of large-scale complex systems. However, the specialized knowledge required for developing such ABMs creates barriers to wider adoption and utilization. Here we present our experiences in developing an initial implementation of Repast4Py, a Python-based distributed ABM toolkit. We build on our experiences in developing ABM toolkits, including Repast for High Performance Computing (Repast HPC), to identify the key elements of a useful distributed ABM toolkit. We leverage the Numba, NumPy, and PyTorch packages and the Python C-API to create a scalable modeling system that can exploit thelargest HPC resources and emerging computing architectures.\"\"\""
   ]
  },
  {
   "cell_type": "markdown",
   "metadata": {},
   "source": [
    "## Resuelvo Ejercicio 5\n",
    "\n",
    "Separo titulo de resumen y analizo cada uno por separado\n"
   ]
  },
  {
   "cell_type": "code",
   "execution_count": 40,
   "metadata": {},
   "outputs": [
    {
     "name": "stdout",
     "output_type": "stream",
     "text": [
      "['Experiences', 'in', 'Developing', 'a', 'Distributed', 'Agent-based', 'Modeling', 'Toolkit', 'with', 'Python', 'Version']\n",
      "['Distributed agent-based modeling (ABM) on high-performance computing resources provides the promise of capturing unprecedented details of large-scale complex systems', ' However, the specialized knowledge required for developing such ABMs creates barriers to wider adoption and utilization', ' Here we present our experiences in developing an initial implementation of Repast Py, a Python-based distributed ABM toolkit', ' We build on our experiences in developing ABM toolkits, including Repast for High Performance Computing (Repast HPC), to identify the key elements of a useful distributed ABM toolkit', ' We leverage the Numba, NumPy, and PyTorch packages and the Python C-API to create a scalable modeling system that can exploit thelargest HPC resources and emerging computing architectures', '']\n",
      "title: not ok\n"
     ]
    },
    {
     "data": {
      "text/plain": [
       "{'Facil': 1, 'Aceptable': 1, 'Dificil': 2, 'Muy dificil: ': 2}"
      ]
     },
     "execution_count": 40,
     "metadata": {},
     "output_type": "execute_result"
    }
   ],
   "source": [
    "import string\n",
    "\n",
    "digits = string.digits\n",
    "\n",
    "for digit in digits:\n",
    "    artycle= artycle.replace(digit,\" \")\n",
    "\n",
    "artycle= artycle.split(\"\\n\")\n",
    "title= artycle[0][8:].split()\n",
    "print(title)\n",
    "resume= artycle[1][9:].split(\".\")\n",
    "print(resume)\n",
    "\n",
    "if (len(title) <= 10):\n",
    "    print(\"title: ok\")\n",
    "else:\n",
    "    print(\"title: not ok\")\n",
    "   \n",
    "difficult = {\"Facil\":0, \"Aceptable\":0,\"Dificil\":0,\"Muy dificil: \":0} \n",
    "for oracion in resume:\n",
    "    long = len(oracion.split())\n",
    "    if (long <= 12):\n",
    "        difficult[\"Facil\"]+=1\n",
    "    elif (long in range(13,18)):\n",
    "        difficult[\"Aceptable\"]+=1\n",
    "    elif (long in range(18,26)):\n",
    "        difficult[\"Dificil\"]+=1\n",
    "    else: \n",
    "        difficult[\"Muy dificil: \"]+=1\n",
    "        \n",
    "difficult\n"
   ]
  }
 ],
 "metadata": {
  "kernelspec": {
   "display_name": "venv",
   "language": "python",
   "name": "python3"
  },
  "language_info": {
   "codemirror_mode": {
    "name": "ipython",
    "version": 3
   },
   "file_extension": ".py",
   "mimetype": "text/x-python",
   "name": "python",
   "nbconvert_exporter": "python",
   "pygments_lexer": "ipython3",
   "version": "3.11.7"
  }
 },
 "nbformat": 4,
 "nbformat_minor": 2
}
