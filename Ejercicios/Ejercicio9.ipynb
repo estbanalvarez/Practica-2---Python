{
 "cells": [
  {
   "cell_type": "markdown",
   "metadata": {},
   "source": [
    "### Ejercicio 9\n",
    "\n",
    "Escriba un programa que solicite por teclado una palabra y calcule el valor de la misma\n",
    "dada la siguiente tabla de valores del juego Scrabble\n",
    "\n",
    "Letra-----------------------------valor      \n",
    "A,E,I,O,U,L,N,R,S,T---------------10    \n",
    "D,G-------------------------------2    \n",
    "B,C,M,P---------------------------3    \n",
    "F,H,V,W,Y-------------------------4    \n",
    "K---------------------------------5    \n",
    "J,X-------------------------------8    \n",
    "Q,Z-------------------------------10    \n",
    "\n",
    "*Tenga en cuenta qué estructura elige para guardar estos valores en Python\n",
    "\n"
   ]
  },
  {
   "cell_type": "code",
   "execution_count": 5,
   "metadata": {},
   "outputs": [
    {
     "name": "stdout",
     "output_type": "stream",
     "text": [
      "El valor de CASA es: 6\n"
     ]
    }
   ],
   "source": [
    "word= input('Ingrese una palabra: ').upper()\n",
    "\n",
    "values={('A','E','I','O','U','L','N','R','S','T'):1,('D','G'):2,('B','C','M','P'):3,('F','H','V','W','Y'):4,'K':5,('J','K'):8,('Q','Z'):10}\n",
    "\n",
    "letter_value= 0\n",
    "for char in word:\n",
    "    for letter in values:\n",
    "        if char in letter: \n",
    "            letter_value+= values[letter]\n",
    "        \n",
    "print(f\"El valor de {word} es: {letter_value}\")"
   ]
  },
  {
   "cell_type": "markdown",
   "metadata": {},
   "source": [
    "### Trato de escribir una sola linea de codigo"
   ]
  },
  {
   "cell_type": "code",
   "execution_count": null,
   "metadata": {},
   "outputs": [],
   "source": [
    "word= input('Ingrese una palabra: ').upper()\n",
    "\n",
    "values={('A','E','I','O','U','L','N','R','S','T'):1,('D','G'):2,('B','C','M','P'):3,('F','H','V','W','Y'):4,'K':5,('J','K'):8,('Q','Z'):10}\n",
    "\n",
    "letter_value= 0\n",
    "#for char in word:\n",
    "#    for letter in values: letter_value += values[letter] if char in values else letter_value += 0\n",
    "        \n",
    "            \n",
    "        \n",
    "print(letter_value)"
   ]
  }
 ],
 "metadata": {
  "kernelspec": {
   "display_name": "venv",
   "language": "python",
   "name": "python3"
  },
  "language_info": {
   "codemirror_mode": {
    "name": "ipython",
    "version": 3
   },
   "file_extension": ".py",
   "mimetype": "text/x-python",
   "name": "python",
   "nbconvert_exporter": "python",
   "pygments_lexer": "ipython3",
   "version": "3.11.7"
  }
 },
 "nbformat": 4,
 "nbformat_minor": 2
}
