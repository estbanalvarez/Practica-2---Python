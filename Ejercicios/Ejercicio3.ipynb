{
 "cells": [
  {
   "cell_type": "markdown",
   "metadata": {},
   "source": [
    "## Ejercicio 3\n",
    "\n",
    "jupyter_info = \"\"\" JupyterLab is a web-based interactive development\n",
    "environment for Jupyter notebooks, code, and data. JupyterLab is\n",
    "flexible: configure and arrange the user interface to support a wide\n",
    "range of workflows in data science, scientific computing, and machine\n",
    "learning. JupyterLab is extensible and modular: write plugins that add\n",
    "new components and integrate with existing ones. \"\"\""
   ]
  },
  {
   "cell_type": "code",
   "execution_count": 11,
   "metadata": {},
   "outputs": [],
   "source": [
    "jupyter_info= \"\"\"JupyterLab is a web-based interactive development\n",
    "environment for Jupyter notebooks, code, and data. JupyterLab is\n",
    "flexible: configure and arrange the user interface to support a wide\n",
    "range of workflows in data science, scientific computing, and machine\n",
    "learning. JupyterLab is extensible and modular: write plugins that add\n",
    "new components and integrate with existing ones.\"\"\""
   ]
  },
  {
   "cell_type": "markdown",
   "metadata": {},
   "source": [
    "### Resuelvo Ejercicio 3"
   ]
  },
  {
   "cell_type": "code",
   "execution_count": 12,
   "metadata": {},
   "outputs": [
    {
     "name": "stdout",
     "output_type": "stream",
     "text": [
      "La letra ingresada es: a\n",
      "JupyterLab\n",
      "a\n",
      "web-based\n",
      "interactive\n",
      "and\n",
      "data.\n",
      "JupyterLab\n",
      "and\n",
      "arrange\n",
      "interface\n",
      "a\n",
      "range\n",
      "data\n",
      "and\n",
      "machine\n",
      "learning.\n",
      "JupyterLab\n",
      "and\n",
      "modular:\n",
      "that\n",
      "add\n",
      "and\n",
      "integrate\n"
     ]
    }
   ],
   "source": [
    "words = jupyter_info.split()\n",
    "\n",
    "import string\n",
    "letters= string.ascii_letters\n",
    "\n",
    "while True:\n",
    "    letter= input(\"Ingrese una letra\")\n",
    "    if letter in letters:\n",
    "        break\n",
    "    else:\n",
    "        print(\"No has ingresado una letra, ingrese nuevamente una letra\")\n",
    "\n",
    "print(f\"La letra ingresada es: {letter}\")\n",
    "\n",
    "for word in words:\n",
    "    if letter in word:\n",
    "        print(word)\n"
   ]
  }
 ],
 "metadata": {
  "kernelspec": {
   "display_name": "venv",
   "language": "python",
   "name": "python3"
  },
  "language_info": {
   "codemirror_mode": {
    "name": "ipython",
    "version": 3
   },
   "file_extension": ".py",
   "mimetype": "text/x-python",
   "name": "python",
   "nbconvert_exporter": "python",
   "pygments_lexer": "ipython3",
   "version": "3.11.7"
  }
 },
 "nbformat": 4,
 "nbformat_minor": 2
}
